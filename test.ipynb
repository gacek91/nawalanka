{
 "cells": [
  {
   "cell_type": "code",
   "execution_count": null,
   "metadata": {
    "collapsed": true,
    "deletable": true,
    "editable": true
   },
   "outputs": [],
   "source": [
    "lista = [1, 2, [3, 4, 5], [6, [7, 8], 9], 10]"
   ]
  },
  {
   "cell_type": "code",
   "execution_count": null,
   "metadata": {
    "collapsed": true,
    "deletable": true,
    "editable": true
   },
   "outputs": [],
   "source": [
    "slowniczek = {'a' : 5, 'b' : 8, 'c' : 100, 'd' : [10, 20, 30, 40, 50, 60]}"
   ]
  },
  {
   "cell_type": "code",
   "execution_count": null,
   "metadata": {
    "collapsed": false,
    "deletable": true,
    "editable": true
   },
   "outputs": [],
   "source": [
    "#pętla\n",
    "for i in range(0, 2)\n",
    "    x = i * 5\n",
    "    print(x)"
   ]
  },
  {
   "cell_type": "code",
   "execution_count": null,
   "metadata": {
    "collapsed": true,
    "deletable": true,
    "editable": true
   },
   "outputs": [],
   "source": [
    "#stwierdzenie warunkowe\n",
    "if len(lista) == 10:\n",
    "    print(nie)\n",
    "else:\n",
    "    print(tak)"
   ]
  },
  {
   "cell_type": "markdown",
   "metadata": {
    "deletable": true,
    "editable": true
   },
   "source": [
    "1. Podaj komendy żeby uzyskać z listy:\n",
    "  1. `[8, 7]`\n",
    "  2. `[3, 5]`\n",
    "  3. `[2, 1]`\n",
    "2. Chcesz dodać do końca listy wartość `11`, jak to zrobisz?\n",
    "3. Podaj komendy żeby uzyskać ze słownika:\n",
    "  1. `8`\n",
    "  2. `[60, 40, 20]`\n",
    "4. Dlaczego ta funkcja (pętla) nie zadziała?\n",
    "  1. Po dodaniu brakującego elementu/brakujących elementów, jaki jest output?\n",
    "5. Przy tak sformułowanym stwierdzeniu warunkowym, jaki jest output?\n",
    "6. Co należy wpisać żeby z biblioteki `matplotlib` zaimportować bibliotekę `pyplot` i żeby zapisać ją jako `plt`?\n",
    "7. Co należy wpisać żeby z pakietu `numpy` zaimportować podpakiet `random`?"
   ]
  },
  {
   "cell_type": "code",
   "execution_count": null,
   "metadata": {
    "collapsed": true,
    "deletable": true,
    "editable": true
   },
   "outputs": [],
   "source": []
  }
 ],
 "metadata": {
  "kernelspec": {
   "display_name": "Python 3",
   "language": "python",
   "name": "python3"
  },
  "language_info": {
   "codemirror_mode": {
    "name": "ipython",
    "version": 3
   },
   "file_extension": ".py",
   "mimetype": "text/x-python",
   "name": "python",
   "nbconvert_exporter": "python",
   "pygments_lexer": "ipython3",
   "version": "3.6.0"
  }
 },
 "nbformat": 4,
 "nbformat_minor": 2
}
